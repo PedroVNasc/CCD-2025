{
 "cells": [
  {
   "cell_type": "code",
   "execution_count": 1,
   "id": "878f0290",
   "metadata": {},
   "outputs": [],
   "source": [
    "import pandas as pd\n",
    "import plotly.graph_objects as go\n",
    "import plotly.colors as pc\n",
    "from sklearn.model_selection import train_test_split\n",
    "from sklearn.ensemble import RandomForestClassifier\n",
    "from sklearn.metrics import accuracy_score, classification_report\n",
    "from tqdm import tqdm"
   ]
  },
  {
   "cell_type": "code",
   "execution_count": 2,
   "id": "c8d8088f",
   "metadata": {},
   "outputs": [],
   "source": [
    "def special_fill_nan(df:pd.DataFrame):\n",
    "    columns = [column for column in df.columns if (column !='id' and column != 'Personality')]\n",
    "\n",
    "    for col in columns:\n",
    "        if df[col].dropna().isin([\"Yes\", \"No\"]).all(): # Converts \"Yes\" and \"No\" columns to numerical booleans\n",
    "            df[col] = df[col].map({\"Yes\": 1, \"No\": 0})\n",
    "            \n",
    "    \n",
    "    df_dict = df.to_dict(orient=\"records\")\n",
    "\n",
    "    for i in tqdm(range(len(df_dict))):\n",
    "        nan_columns = [k for k, v in df_dict[i].items() if pd.isna(v)]\n",
    "        base_columns = [k for k, v in df_dict[i].items() if (not pd.isna(v) and k!='id' and k != 'Personality')]\n",
    "\n",
    "        for nan_column in nan_columns: # For every empty column in a row\n",
    "            accumulate = 0\n",
    "            for base_column in base_columns: # Takes the value of every non-empty column, filters by it and takes the mode of the empty column, then takes the mean\n",
    "                mode = df.query(f\"{base_column} == {df_dict[i][base_column]}\")[nan_column].mode()[0]\n",
    "\n",
    "                accumulate += mode\n",
    "\n",
    "            mean = round(accumulate/len(base_columns))\n",
    "\n",
    "            df_dict[i][nan_column] = int(mean)\n",
    "\n",
    "    \n",
    "    new_df = pd.DataFrame(df_dict)\n",
    "    new_df[columns] = new_df[columns].astype(int)\n",
    "\n",
    "    return new_df\n",
    "\n",
    "\n",
    "def standard_fill_nan(df:pd.DataFrame, strategy=\"mode\"):\n",
    "    columns = [column for column in df.columns if (column !='id' and column != 'Personality')]\n",
    "\n",
    "    for col in columns:\n",
    "        if df[col].dropna().isin([\"Yes\", \"No\"]).all(): # Converts \"Yes\" and \"No\" columns to numerical booleans\n",
    "            df[col] = df[col].map({\"Yes\": 1, \"No\": 0})\n",
    "\n",
    "        if strategy == \"mode\":    \n",
    "            mode = df[col].mode()[0]\n",
    "            fill_value = round(mode)\n",
    "        elif strategy == \"mean\":\n",
    "            mean = df[col].mean()\n",
    "            fill_value = round(mean)\n",
    "\n",
    "        df[col] = df[col].fillna(fill_value).round().astype(int)\n",
    "\n",
    "    return df\n",
    "\n",
    "def preprocess(df:pd.DataFrame, strategy=\"mode\"):\n",
    "    if strategy == \"mean\" or strategy==\"mode\":\n",
    "        return standard_fill_nan(df, strategy)\n",
    "    elif strategy == \"special\":\n",
    "        return special_fill_nan(df)"
   ]
  },
  {
   "cell_type": "code",
   "execution_count": 3,
   "id": "00c9ab01",
   "metadata": {},
   "outputs": [
    {
     "data": {
      "text/html": [
       "<div>\n",
       "<style scoped>\n",
       "    .dataframe tbody tr th:only-of-type {\n",
       "        vertical-align: middle;\n",
       "    }\n",
       "\n",
       "    .dataframe tbody tr th {\n",
       "        vertical-align: top;\n",
       "    }\n",
       "\n",
       "    .dataframe thead th {\n",
       "        text-align: right;\n",
       "    }\n",
       "</style>\n",
       "<table border=\"1\" class=\"dataframe\">\n",
       "  <thead>\n",
       "    <tr style=\"text-align: right;\">\n",
       "      <th></th>\n",
       "      <th>id</th>\n",
       "      <th>Time_spent_Alone</th>\n",
       "      <th>Stage_fear</th>\n",
       "      <th>Social_event_attendance</th>\n",
       "      <th>Going_outside</th>\n",
       "      <th>Drained_after_socializing</th>\n",
       "      <th>Friends_circle_size</th>\n",
       "      <th>Post_frequency</th>\n",
       "      <th>Personality</th>\n",
       "      <th>label</th>\n",
       "    </tr>\n",
       "  </thead>\n",
       "  <tbody>\n",
       "    <tr>\n",
       "      <th>0</th>\n",
       "      <td>0</td>\n",
       "      <td>0.0</td>\n",
       "      <td>No</td>\n",
       "      <td>6.0</td>\n",
       "      <td>4.0</td>\n",
       "      <td>No</td>\n",
       "      <td>15.0</td>\n",
       "      <td>5.0</td>\n",
       "      <td>Extrovert</td>\n",
       "      <td>1</td>\n",
       "    </tr>\n",
       "    <tr>\n",
       "      <th>1</th>\n",
       "      <td>1</td>\n",
       "      <td>1.0</td>\n",
       "      <td>No</td>\n",
       "      <td>7.0</td>\n",
       "      <td>3.0</td>\n",
       "      <td>No</td>\n",
       "      <td>10.0</td>\n",
       "      <td>8.0</td>\n",
       "      <td>Extrovert</td>\n",
       "      <td>1</td>\n",
       "    </tr>\n",
       "    <tr>\n",
       "      <th>2</th>\n",
       "      <td>2</td>\n",
       "      <td>6.0</td>\n",
       "      <td>Yes</td>\n",
       "      <td>1.0</td>\n",
       "      <td>0.0</td>\n",
       "      <td>NaN</td>\n",
       "      <td>3.0</td>\n",
       "      <td>0.0</td>\n",
       "      <td>Introvert</td>\n",
       "      <td>0</td>\n",
       "    </tr>\n",
       "    <tr>\n",
       "      <th>3</th>\n",
       "      <td>3</td>\n",
       "      <td>3.0</td>\n",
       "      <td>No</td>\n",
       "      <td>7.0</td>\n",
       "      <td>3.0</td>\n",
       "      <td>No</td>\n",
       "      <td>11.0</td>\n",
       "      <td>5.0</td>\n",
       "      <td>Extrovert</td>\n",
       "      <td>1</td>\n",
       "    </tr>\n",
       "    <tr>\n",
       "      <th>4</th>\n",
       "      <td>4</td>\n",
       "      <td>1.0</td>\n",
       "      <td>No</td>\n",
       "      <td>4.0</td>\n",
       "      <td>4.0</td>\n",
       "      <td>No</td>\n",
       "      <td>13.0</td>\n",
       "      <td>NaN</td>\n",
       "      <td>Extrovert</td>\n",
       "      <td>1</td>\n",
       "    </tr>\n",
       "  </tbody>\n",
       "</table>\n",
       "</div>"
      ],
      "text/plain": [
       "   id  Time_spent_Alone Stage_fear  Social_event_attendance  Going_outside  \\\n",
       "0   0               0.0         No                      6.0            4.0   \n",
       "1   1               1.0         No                      7.0            3.0   \n",
       "2   2               6.0        Yes                      1.0            0.0   \n",
       "3   3               3.0         No                      7.0            3.0   \n",
       "4   4               1.0         No                      4.0            4.0   \n",
       "\n",
       "  Drained_after_socializing  Friends_circle_size  Post_frequency Personality  \\\n",
       "0                        No                 15.0             5.0   Extrovert   \n",
       "1                        No                 10.0             8.0   Extrovert   \n",
       "2                       NaN                  3.0             0.0   Introvert   \n",
       "3                        No                 11.0             5.0   Extrovert   \n",
       "4                        No                 13.0             NaN   Extrovert   \n",
       "\n",
       "   label  \n",
       "0      1  \n",
       "1      1  \n",
       "2      0  \n",
       "3      1  \n",
       "4      1  "
      ]
     },
     "execution_count": 3,
     "metadata": {},
     "output_type": "execute_result"
    }
   ],
   "source": [
    "original_df = pd.read_csv(\"data/train.csv\")\n",
    "original_df['label'] = [1 if x == 'Extrovert' else 0 for x in original_df['Personality']]\n",
    "original_df.head()"
   ]
  },
  {
   "cell_type": "code",
   "execution_count": 4,
   "id": "67f0d4c6",
   "metadata": {},
   "outputs": [
    {
     "name": "stdout",
     "output_type": "stream",
     "text": [
      "<class 'pandas.core.frame.DataFrame'>\n",
      "RangeIndex: 18524 entries, 0 to 18523\n",
      "Data columns (total 10 columns):\n",
      " #   Column                     Non-Null Count  Dtype  \n",
      "---  ------                     --------------  -----  \n",
      " 0   id                         18524 non-null  int64  \n",
      " 1   Time_spent_Alone           17334 non-null  float64\n",
      " 2   Stage_fear                 16631 non-null  object \n",
      " 3   Social_event_attendance    17344 non-null  float64\n",
      " 4   Going_outside              17058 non-null  float64\n",
      " 5   Drained_after_socializing  17375 non-null  object \n",
      " 6   Friends_circle_size        17470 non-null  float64\n",
      " 7   Post_frequency             17260 non-null  float64\n",
      " 8   Personality                18524 non-null  object \n",
      " 9   label                      18524 non-null  int64  \n",
      "dtypes: float64(5), int64(2), object(3)\n",
      "memory usage: 1.4+ MB\n"
     ]
    }
   ],
   "source": [
    "original_df.info()"
   ]
  },
  {
   "cell_type": "code",
   "execution_count": 5,
   "id": "140269da",
   "metadata": {},
   "outputs": [],
   "source": [
    "def cut_dataframe(data: pd.DataFrame, drop_columns: list[str]) -> pd.DataFrame:\n",
    "    return data.drop(columns=drop_columns)\n",
    "\n",
    "def split_data(data: pd.DataFrame, test_size: float = 0.2, seed: int = 42):\n",
    "    x = data.drop(columns=['label'])\n",
    "    y = data['label']\n",
    "\n",
    "    return train_test_split(x, y, test_size=test_size, random_state=seed)\n",
    "\n",
    "def train_random_forest(x_train, y_train, n_estimators: int = 100, seed: int = 42) -> RandomForestClassifier:\n",
    "    model = RandomForestClassifier(n_estimators=n_estimators, random_state=seed)\n",
    "    model.fit(x_train, y_train)\n",
    "\n",
    "    return model\n",
    "\n",
    "def test_random_forest(model: RandomForestClassifier, x_test, y_test):\n",
    "    y_pred = model.predict(x_test)\n",
    "    return accuracy_score(y_test, y_pred)\n",
    "\n",
    "def measure_method(data: pd.DataFrame, strategy: str, n_estimators: int = 100, test_size: float = 0.2, seed: int = 42):\n",
    "    processed_data = preprocess(data, strategy)\n",
    "    x_train, x_test, y_train, y_test = split_data(processed_data, test_size=test_size, seed=seed)\n",
    "    model = train_random_forest(x_train, y_train, n_estimators=n_estimators, seed=seed)\n",
    "    print(test_random_forest(model, x_test, y_test))\n",
    "    return model"
   ]
  },
  {
   "cell_type": "markdown",
   "id": "62e2e90d",
   "metadata": {},
   "source": [
    "## Dataset com Drained_after_socializing"
   ]
  },
  {
   "cell_type": "code",
   "execution_count": 6,
   "id": "761ef455",
   "metadata": {},
   "outputs": [
    {
     "data": {
      "text/html": [
       "<div>\n",
       "<style scoped>\n",
       "    .dataframe tbody tr th:only-of-type {\n",
       "        vertical-align: middle;\n",
       "    }\n",
       "\n",
       "    .dataframe tbody tr th {\n",
       "        vertical-align: top;\n",
       "    }\n",
       "\n",
       "    .dataframe thead th {\n",
       "        text-align: right;\n",
       "    }\n",
       "</style>\n",
       "<table border=\"1\" class=\"dataframe\">\n",
       "  <thead>\n",
       "    <tr style=\"text-align: right;\">\n",
       "      <th></th>\n",
       "      <th>Time_spent_Alone</th>\n",
       "      <th>Stage_fear</th>\n",
       "      <th>Social_event_attendance</th>\n",
       "      <th>Going_outside</th>\n",
       "      <th>Drained_after_socializing</th>\n",
       "      <th>Friends_circle_size</th>\n",
       "      <th>Post_frequency</th>\n",
       "      <th>label</th>\n",
       "    </tr>\n",
       "  </thead>\n",
       "  <tbody>\n",
       "    <tr>\n",
       "      <th>0</th>\n",
       "      <td>0.0</td>\n",
       "      <td>No</td>\n",
       "      <td>6.0</td>\n",
       "      <td>4.0</td>\n",
       "      <td>No</td>\n",
       "      <td>15.0</td>\n",
       "      <td>5.0</td>\n",
       "      <td>1</td>\n",
       "    </tr>\n",
       "    <tr>\n",
       "      <th>1</th>\n",
       "      <td>1.0</td>\n",
       "      <td>No</td>\n",
       "      <td>7.0</td>\n",
       "      <td>3.0</td>\n",
       "      <td>No</td>\n",
       "      <td>10.0</td>\n",
       "      <td>8.0</td>\n",
       "      <td>1</td>\n",
       "    </tr>\n",
       "    <tr>\n",
       "      <th>2</th>\n",
       "      <td>6.0</td>\n",
       "      <td>Yes</td>\n",
       "      <td>1.0</td>\n",
       "      <td>0.0</td>\n",
       "      <td>NaN</td>\n",
       "      <td>3.0</td>\n",
       "      <td>0.0</td>\n",
       "      <td>0</td>\n",
       "    </tr>\n",
       "    <tr>\n",
       "      <th>3</th>\n",
       "      <td>3.0</td>\n",
       "      <td>No</td>\n",
       "      <td>7.0</td>\n",
       "      <td>3.0</td>\n",
       "      <td>No</td>\n",
       "      <td>11.0</td>\n",
       "      <td>5.0</td>\n",
       "      <td>1</td>\n",
       "    </tr>\n",
       "    <tr>\n",
       "      <th>4</th>\n",
       "      <td>1.0</td>\n",
       "      <td>No</td>\n",
       "      <td>4.0</td>\n",
       "      <td>4.0</td>\n",
       "      <td>No</td>\n",
       "      <td>13.0</td>\n",
       "      <td>NaN</td>\n",
       "      <td>1</td>\n",
       "    </tr>\n",
       "  </tbody>\n",
       "</table>\n",
       "</div>"
      ],
      "text/plain": [
       "   Time_spent_Alone Stage_fear  Social_event_attendance  Going_outside  \\\n",
       "0               0.0         No                      6.0            4.0   \n",
       "1               1.0         No                      7.0            3.0   \n",
       "2               6.0        Yes                      1.0            0.0   \n",
       "3               3.0         No                      7.0            3.0   \n",
       "4               1.0         No                      4.0            4.0   \n",
       "\n",
       "  Drained_after_socializing  Friends_circle_size  Post_frequency  label  \n",
       "0                        No                 15.0             5.0      1  \n",
       "1                        No                 10.0             8.0      1  \n",
       "2                       NaN                  3.0             0.0      0  \n",
       "3                        No                 11.0             5.0      1  \n",
       "4                        No                 13.0             NaN      1  "
      ]
     },
     "execution_count": 6,
     "metadata": {},
     "output_type": "execute_result"
    }
   ],
   "source": [
    "df = cut_dataframe(original_df, ['id', 'Personality'])\n",
    "df.head()"
   ]
  },
  {
   "cell_type": "markdown",
   "id": "a922e756",
   "metadata": {},
   "source": [
    "### Mode Fill"
   ]
  },
  {
   "cell_type": "code",
   "execution_count": 7,
   "id": "b340f86e",
   "metadata": {},
   "outputs": [
    {
     "name": "stdout",
     "output_type": "stream",
     "text": [
      "0.9635627530364372\n"
     ]
    }
   ],
   "source": [
    "model_mode = measure_method(df.copy(), strategy='mode')"
   ]
  },
  {
   "cell_type": "markdown",
   "id": "89aac6b5",
   "metadata": {},
   "source": [
    "### Mean Fill"
   ]
  },
  {
   "cell_type": "code",
   "execution_count": 8,
   "id": "e5544963",
   "metadata": {},
   "outputs": [
    {
     "name": "stdout",
     "output_type": "stream",
     "text": [
      "0.9635627530364372\n"
     ]
    }
   ],
   "source": [
    "model_mean = measure_method(df.copy(), strategy='mean')"
   ]
  },
  {
   "cell_type": "markdown",
   "id": "0e7d390e",
   "metadata": {},
   "source": [
    "### Special Fill"
   ]
  },
  {
   "cell_type": "code",
   "execution_count": 9,
   "id": "ee73ba09",
   "metadata": {},
   "outputs": [
    {
     "name": "stderr",
     "output_type": "stream",
     "text": [
      "100%|██████████| 18524/18524 [03:15<00:00, 94.91it/s] \n"
     ]
    },
    {
     "name": "stdout",
     "output_type": "stream",
     "text": [
      "0.9614035087719298\n"
     ]
    }
   ],
   "source": [
    "model_special = measure_method(df.copy(), strategy='special')"
   ]
  },
  {
   "cell_type": "markdown",
   "id": "dd600b1f",
   "metadata": {},
   "source": [
    "## Dataset sem Drained_after_socializing"
   ]
  },
  {
   "cell_type": "code",
   "execution_count": 10,
   "id": "aa4ba311",
   "metadata": {},
   "outputs": [],
   "source": [
    "df_cut = cut_dataframe(df, ['Drained_after_socializing'])"
   ]
  },
  {
   "cell_type": "code",
   "execution_count": 11,
   "id": "5c7594c5",
   "metadata": {},
   "outputs": [
    {
     "data": {
      "text/html": [
       "<div>\n",
       "<style scoped>\n",
       "    .dataframe tbody tr th:only-of-type {\n",
       "        vertical-align: middle;\n",
       "    }\n",
       "\n",
       "    .dataframe tbody tr th {\n",
       "        vertical-align: top;\n",
       "    }\n",
       "\n",
       "    .dataframe thead th {\n",
       "        text-align: right;\n",
       "    }\n",
       "</style>\n",
       "<table border=\"1\" class=\"dataframe\">\n",
       "  <thead>\n",
       "    <tr style=\"text-align: right;\">\n",
       "      <th></th>\n",
       "      <th>Time_spent_Alone</th>\n",
       "      <th>Stage_fear</th>\n",
       "      <th>Social_event_attendance</th>\n",
       "      <th>Going_outside</th>\n",
       "      <th>Friends_circle_size</th>\n",
       "      <th>Post_frequency</th>\n",
       "      <th>label</th>\n",
       "    </tr>\n",
       "  </thead>\n",
       "  <tbody>\n",
       "    <tr>\n",
       "      <th>0</th>\n",
       "      <td>0.0</td>\n",
       "      <td>No</td>\n",
       "      <td>6.0</td>\n",
       "      <td>4.0</td>\n",
       "      <td>15.0</td>\n",
       "      <td>5.0</td>\n",
       "      <td>1</td>\n",
       "    </tr>\n",
       "    <tr>\n",
       "      <th>1</th>\n",
       "      <td>1.0</td>\n",
       "      <td>No</td>\n",
       "      <td>7.0</td>\n",
       "      <td>3.0</td>\n",
       "      <td>10.0</td>\n",
       "      <td>8.0</td>\n",
       "      <td>1</td>\n",
       "    </tr>\n",
       "    <tr>\n",
       "      <th>2</th>\n",
       "      <td>6.0</td>\n",
       "      <td>Yes</td>\n",
       "      <td>1.0</td>\n",
       "      <td>0.0</td>\n",
       "      <td>3.0</td>\n",
       "      <td>0.0</td>\n",
       "      <td>0</td>\n",
       "    </tr>\n",
       "    <tr>\n",
       "      <th>3</th>\n",
       "      <td>3.0</td>\n",
       "      <td>No</td>\n",
       "      <td>7.0</td>\n",
       "      <td>3.0</td>\n",
       "      <td>11.0</td>\n",
       "      <td>5.0</td>\n",
       "      <td>1</td>\n",
       "    </tr>\n",
       "    <tr>\n",
       "      <th>4</th>\n",
       "      <td>1.0</td>\n",
       "      <td>No</td>\n",
       "      <td>4.0</td>\n",
       "      <td>4.0</td>\n",
       "      <td>13.0</td>\n",
       "      <td>NaN</td>\n",
       "      <td>1</td>\n",
       "    </tr>\n",
       "  </tbody>\n",
       "</table>\n",
       "</div>"
      ],
      "text/plain": [
       "   Time_spent_Alone Stage_fear  Social_event_attendance  Going_outside  \\\n",
       "0               0.0         No                      6.0            4.0   \n",
       "1               1.0         No                      7.0            3.0   \n",
       "2               6.0        Yes                      1.0            0.0   \n",
       "3               3.0         No                      7.0            3.0   \n",
       "4               1.0         No                      4.0            4.0   \n",
       "\n",
       "   Friends_circle_size  Post_frequency  label  \n",
       "0                 15.0             5.0      1  \n",
       "1                 10.0             8.0      1  \n",
       "2                  3.0             0.0      0  \n",
       "3                 11.0             5.0      1  \n",
       "4                 13.0             NaN      1  "
      ]
     },
     "execution_count": 11,
     "metadata": {},
     "output_type": "execute_result"
    }
   ],
   "source": [
    "df_cut.head()"
   ]
  },
  {
   "cell_type": "markdown",
   "id": "2366cf5b",
   "metadata": {},
   "source": [
    "### Mode Fill"
   ]
  },
  {
   "cell_type": "code",
   "execution_count": 12,
   "id": "651f4b73",
   "metadata": {},
   "outputs": [
    {
     "name": "stdout",
     "output_type": "stream",
     "text": [
      "0.9624831309041836\n"
     ]
    }
   ],
   "source": [
    "model_cut_mode = measure_method(df_cut.copy(), strategy='mode')"
   ]
  },
  {
   "cell_type": "markdown",
   "id": "6cc26a1b",
   "metadata": {},
   "source": [
    "### Mean Fill"
   ]
  },
  {
   "cell_type": "code",
   "execution_count": 13,
   "id": "1348c1b7",
   "metadata": {},
   "outputs": [
    {
     "name": "stdout",
     "output_type": "stream",
     "text": [
      "0.962753036437247\n"
     ]
    }
   ],
   "source": [
    "model_cut_mean = measure_method(df_cut.copy(), strategy='mean')"
   ]
  },
  {
   "cell_type": "markdown",
   "id": "007f5d7d",
   "metadata": {},
   "source": [
    "### Special Fill"
   ]
  },
  {
   "cell_type": "code",
   "execution_count": 14,
   "id": "3e8b6055",
   "metadata": {},
   "outputs": [
    {
     "name": "stderr",
     "output_type": "stream",
     "text": [
      "100%|██████████| 18524/18524 [02:17<00:00, 134.51it/s]\n"
     ]
    },
    {
     "name": "stdout",
     "output_type": "stream",
     "text": [
      "0.9614035087719298\n"
     ]
    }
   ],
   "source": [
    "model_cut_special = measure_method(df_cut.copy(), strategy='special')"
   ]
  }
 ],
 "metadata": {
  "kernelspec": {
   "display_name": "CCD",
   "language": "python",
   "name": "python3"
  },
  "language_info": {
   "codemirror_mode": {
    "name": "ipython",
    "version": 3
   },
   "file_extension": ".py",
   "mimetype": "text/x-python",
   "name": "python",
   "nbconvert_exporter": "python",
   "pygments_lexer": "ipython3",
   "version": "3.12.11"
  }
 },
 "nbformat": 4,
 "nbformat_minor": 5
}
