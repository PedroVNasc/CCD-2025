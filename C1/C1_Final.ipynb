{
 "cells": [
  {
   "cell_type": "code",
   "execution_count": null,
   "id": "878f0290",
   "metadata": {},
   "outputs": [],
   "source": [
    "import pandas as pd\n",
    "import plotly.graph_objects as go\n",
    "import plotly.colors as pc\n",
    "from tqdm import tqdm"
   ]
  },
  {
   "cell_type": "code",
   "execution_count": null,
   "id": "c8d8088f",
   "metadata": {},
   "outputs": [],
   "source": [
    "def special_fill_nan(df:pd.DataFrame):\n",
    "    columns = [column for column in df.columns if (column !='id' and column != 'Personality')]\n",
    "\n",
    "    for col in columns:\n",
    "        if df[col].dropna().isin([\"Yes\", \"No\"]).all(): # Converts \"Yes\" and \"No\" columns to numerical booleans\n",
    "            df[col] = df[col].map({\"Yes\": 1, \"No\": 0})\n",
    "            \n",
    "    \n",
    "    df_dict = df.to_dict(orient=\"records\")\n",
    "\n",
    "    for i in tqdm(range(len(df_dict))):\n",
    "        nan_columns = [k for k, v in df_dict[i].items() if pd.isna(v)]\n",
    "        base_columns = [k for k, v in df_dict[i].items() if (not pd.isna(v) and k!='id' and k != 'Personality')]\n",
    "\n",
    "        for nan_column in nan_columns: # For every empty column in a row\n",
    "            accumulate = 0\n",
    "            for base_column in base_columns: # Takes the value of every non-empty column, filters by it and takes the mode of the empty column, then takes the mean\n",
    "                mode = df.query(f\"{base_column} == {df_dict[i][base_column]}\")[nan_column].mode()[0]\n",
    "\n",
    "                accumulate += mode\n",
    "\n",
    "            mean = round(accumulate/len(base_columns))\n",
    "\n",
    "            df_dict[i][nan_column] = int(mean)\n",
    "\n",
    "    \n",
    "    new_df = pd.DataFrame(df_dict)\n",
    "    new_df[columns] = new_df[columns].astype(int)\n",
    "\n",
    "    return new_df\n",
    "\n",
    "\n",
    "def standard_fill_nan(df:pd.DataFrame, strategy=\"mode\"):\n",
    "    columns = [column for column in df.columns if (column !='id' and column != 'Personality')]\n",
    "\n",
    "    for col in columns:\n",
    "        if df[col].dropna().isin([\"Yes\", \"No\"]).all(): # Converts \"Yes\" and \"No\" columns to numerical booleans\n",
    "            df[col] = df[col].map({\"Yes\": 1, \"No\": 0})\n",
    "\n",
    "        if strategy == \"mode\":    \n",
    "            mode = df[col].mode()[0]\n",
    "            fill_value = round(mode)\n",
    "        elif strategy == \"mean\":\n",
    "            mean = df[col].mean()\n",
    "            fill_value = round(mean)\n",
    "\n",
    "        df[col] = df[col].fillna(fill_value).round().astype(int)\n",
    "\n",
    "    return df\n",
    "\n",
    "def preprocess(df:pd.DataFrame, strategy=\"mode\"):\n",
    "\n",
    "    if strategy == \"mean\" or strategy==\"mode\":\n",
    "        return standard_fill_nan(df, strategy)\n",
    "    elif strategy == \"special\":\n",
    "        return special_fill_nan(df)"
   ]
  },
  {
   "cell_type": "code",
   "execution_count": null,
   "id": "00c9ab01",
   "metadata": {},
   "outputs": [],
   "source": [
    "df = preprocess(pd.read_csv(\"../data/C1/train.csv\"), \"special\")"
   ]
  },
  {
   "cell_type": "code",
   "execution_count": null,
   "id": "67f0d4c6",
   "metadata": {},
   "outputs": [],
   "source": [
    "df.info()"
   ]
  }
 ],
 "metadata": {
  "kernelspec": {
   "display_name": "ccd",
   "language": "python",
   "name": "python3"
  },
  "language_info": {
   "codemirror_mode": {
    "name": "ipython",
    "version": 3
   },
   "file_extension": ".py",
   "mimetype": "text/x-python",
   "name": "python",
   "nbconvert_exporter": "python",
   "pygments_lexer": "ipython3",
   "version": "3.13.5"
  }
 },
 "nbformat": 4,
 "nbformat_minor": 5
}
