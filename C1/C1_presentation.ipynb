{
 "cells": [
  {
   "cell_type": "code",
   "execution_count": null,
   "id": "f629d081",
   "metadata": {},
   "outputs": [],
   "source": [
    "import pandas as pd\n",
    "import plotly.graph_objects as go\n",
    "import plotly.colors as pc"
   ]
  },
  {
   "cell_type": "code",
   "execution_count": null,
   "id": "65402917",
   "metadata": {},
   "outputs": [],
   "source": [
    "train_df = pd.read_csv(\"../data/C1/train.csv\")\n",
    "train_df"
   ]
  },
  {
   "cell_type": "code",
   "execution_count": null,
   "id": "01b19909",
   "metadata": {},
   "outputs": [],
   "source": [
    "test_df = pd.read_csv(\"../data/C1/test.csv\")\n",
    "test_df"
   ]
  },
  {
   "cell_type": "code",
   "execution_count": null,
   "id": "ca7dd594",
   "metadata": {},
   "outputs": [],
   "source": [
    "train_df.info()"
   ]
  },
  {
   "cell_type": "code",
   "execution_count": null,
   "id": "3a7d010d",
   "metadata": {},
   "outputs": [],
   "source": [
    "test_df.info()"
   ]
  },
  {
   "cell_type": "code",
   "execution_count": null,
   "id": "483441bf",
   "metadata": {},
   "outputs": [],
   "source": [
    "def prepare_counts(df_column):\n",
    "    col_series = df_column.copy()\n",
    "    \n",
    "    # Convert NaNs to string \"nan\" for plotting\n",
    "    col_series = col_series.astype(object).where(pd.notnull(col_series), \"nan\").astype(str)\n",
    "    \n",
    "    # Count values\n",
    "    counts = col_series.value_counts().reset_index()\n",
    "    counts.columns = ['Value', 'Count']\n",
    "    \n",
    "    # Convert to sortable format\n",
    "    def sort_key(val):\n",
    "        if val == \"nan\":\n",
    "            return (2, \"\")  # NaN Last\n",
    "        try:\n",
    "            return (0, float(val))  # Numbers first\n",
    "        except ValueError:\n",
    "            return (1, val.lower()) # Strings Second\n",
    "    \n",
    "    counts = counts.sort_values(by='Value', key=lambda col: col.map(sort_key)).reset_index(drop=True)\n",
    "    return counts\n",
    "\n",
    "def create_visualization(df:pd.DataFrame):\n",
    "    df = df.drop(\"id\", axis=1)\n",
    "    value_counts_dict = {col: prepare_counts(df[col]) for col in df.columns}\n",
    "\n",
    "    fig = go.Figure()\n",
    "    palette = pc.qualitative.Prism\n",
    "\n",
    "    # A bar for each column\n",
    "    for i, (col, counts_df) in enumerate(value_counts_dict.items()):\n",
    "        num_bars = len(counts_df)\n",
    "    \n",
    "        # Repeat or truncate palette to match number of bars\n",
    "        colors = (palette * ((num_bars // len(palette)) + 1))[:num_bars]\n",
    "\n",
    "        fig.add_trace(go.Bar(\n",
    "            x=counts_df['Value'],\n",
    "            y=counts_df[\"Count\"],\n",
    "            name=col,\n",
    "            visible=(i == 0),\n",
    "            marker_color=colors\n",
    "        ))\n",
    "\n",
    "    # Dropdown buttons\n",
    "    dropdown_buttons = []\n",
    "    for i, col in enumerate(df.columns):\n",
    "        visibility = [False] * len(df.columns)\n",
    "        visibility[i] = True  # Show only the current column\n",
    "        button = dict(\n",
    "            label=col,\n",
    "            method=\"update\",\n",
    "            args=[{\"visible\": visibility},\n",
    "                {\"title\": f\"Distribution of {col}\"}]\n",
    "        )\n",
    "        dropdown_buttons.append(button)\n",
    "\n",
    "    # Update layout with dropdown menu\n",
    "    fig.update_layout(\n",
    "        updatemenus=[dict(\n",
    "            active=0,\n",
    "            buttons=dropdown_buttons,\n",
    "            x=0.5,\n",
    "            xanchor=\"center\",\n",
    "            y=1.2,\n",
    "            yanchor=\"top\"\n",
    "        )],\n",
    "        title=f\"Distribution of {df.columns[0]}\",\n",
    "        xaxis_title=\"Value\",\n",
    "        yaxis_title=\"Count\"\n",
    "    )\n",
    "\n",
    "    fig.show()"
   ]
  },
  {
   "cell_type": "code",
   "execution_count": null,
   "id": "4dd9b10e",
   "metadata": {},
   "outputs": [],
   "source": [
    "create_visualization(train_df)"
   ]
  },
  {
   "cell_type": "code",
   "execution_count": null,
   "id": "01bff241",
   "metadata": {},
   "outputs": [],
   "source": [
    "create_visualization(test_df)"
   ]
  }
 ],
 "metadata": {
  "kernelspec": {
   "display_name": "ccd",
   "language": "python",
   "name": "python3"
  },
  "language_info": {
   "codemirror_mode": {
    "name": "ipython",
    "version": 3
   },
   "file_extension": ".py",
   "mimetype": "text/x-python",
   "name": "python",
   "nbconvert_exporter": "python",
   "pygments_lexer": "ipython3",
   "version": "3.13.5"
  }
 },
 "nbformat": 4,
 "nbformat_minor": 5
}
