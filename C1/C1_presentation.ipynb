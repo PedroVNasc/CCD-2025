{
 "cells": [
  {
   "cell_type": "code",
   "execution_count": null,
   "id": "f629d081",
   "metadata": {},
   "outputs": [],
   "source": [
    "import pandas as pd\n",
    "import plotly.graph_objects as go"
   ]
  },
  {
   "cell_type": "code",
   "execution_count": null,
   "id": "65402917",
   "metadata": {},
   "outputs": [],
   "source": [
    "train_df = pd.read_csv(\"../data/C1/train.csv\")\n",
    "train_df"
   ]
  },
  {
   "cell_type": "code",
   "execution_count": null,
   "id": "01b19909",
   "metadata": {},
   "outputs": [],
   "source": [
    "test_df = pd.read_csv(\"../data/C1/test.csv\")\n",
    "test_df"
   ]
  },
  {
   "cell_type": "code",
   "execution_count": null,
   "id": "ca7dd594",
   "metadata": {},
   "outputs": [],
   "source": [
    "train_df.info()"
   ]
  },
  {
   "cell_type": "code",
   "execution_count": null,
   "id": "3a7d010d",
   "metadata": {},
   "outputs": [],
   "source": [
    "test_df.info()"
   ]
  },
  {
   "cell_type": "code",
   "execution_count": null,
   "id": "e80bedbf",
   "metadata": {},
   "outputs": [],
   "source": [
    "train_df[\"Personality\"].value_counts()"
   ]
  },
  {
   "cell_type": "code",
   "execution_count": null,
   "id": "483441bf",
   "metadata": {},
   "outputs": [],
   "source": [
    "def create_visualization(df:pd.DataFrame):\n",
    "    df = df.drop(\"id\", axis=1)\n",
    "    value_counts_dict = {col: df[col].astype(str).value_counts().reset_index() for col in df.columns}\n",
    "\n",
    "    # Initialize figure\n",
    "    fig = go.Figure()\n",
    "\n",
    "    # Add a bar trace for each column (initially only show the first one)\n",
    "    for i, (col, counts_df) in enumerate(value_counts_dict.items()):\n",
    "        visible = True if i == 0 else False\n",
    "        fig.add_trace(go.Bar(\n",
    "            x=counts_df[col],\n",
    "            y=counts_df[\"count\"],\n",
    "            name=col,\n",
    "            visible=visible\n",
    "        ))\n",
    "\n",
    "    # Create dropdown buttons\n",
    "    dropdown_buttons = []\n",
    "    for i, col in enumerate(df.columns):\n",
    "        visibility = [False] * len(df.columns)\n",
    "        visibility[i] = True  # Show only the current column's trace\n",
    "        button = dict(\n",
    "            label=col,\n",
    "            method=\"update\",\n",
    "            args=[{\"visible\": visibility},\n",
    "                {\"title\": f\"Distribution of {col}\"}]\n",
    "        )\n",
    "        dropdown_buttons.append(button)\n",
    "\n",
    "    # Update layout with dropdown menu\n",
    "    fig.update_layout(\n",
    "        updatemenus=[dict(\n",
    "            active=0,\n",
    "            buttons=dropdown_buttons,\n",
    "            x=0.5,\n",
    "            xanchor=\"center\",\n",
    "            y=1.2,\n",
    "            yanchor=\"top\"\n",
    "        )],\n",
    "        title=f\"Distribution of {df.columns[0]}\",\n",
    "        xaxis_title=\"Value\",\n",
    "        yaxis_title=\"Count\"\n",
    "    )\n",
    "\n",
    "    fig.show()"
   ]
  },
  {
   "cell_type": "code",
   "execution_count": null,
   "id": "4dd9b10e",
   "metadata": {},
   "outputs": [],
   "source": [
    "create_visualization(train_df)"
   ]
  },
  {
   "cell_type": "code",
   "execution_count": null,
   "id": "01bff241",
   "metadata": {},
   "outputs": [],
   "source": [
    "create_visualization(test_df)"
   ]
  }
 ],
 "metadata": {
  "kernelspec": {
   "display_name": "ccd",
   "language": "python",
   "name": "python3"
  },
  "language_info": {
   "codemirror_mode": {
    "name": "ipython",
    "version": 3
   },
   "file_extension": ".py",
   "mimetype": "text/x-python",
   "name": "python",
   "nbconvert_exporter": "python",
   "pygments_lexer": "ipython3",
   "version": "3.13.5"
  }
 },
 "nbformat": 4,
 "nbformat_minor": 5
}
